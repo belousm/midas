{
 "cells": [
  {
   "cell_type": "code",
   "execution_count": null,
   "id": "59aec72c",
   "metadata": {},
   "outputs": [],
   "source": [
    "import os"
   ]
  },
  {
   "cell_type": "code",
   "execution_count": 20,
   "id": "c7c0a3ae",
   "metadata": {},
   "outputs": [],
   "source": [
    "os.environ[\"PATH_TO_TEST_MIDAS\"] = \"/Users/belousm/Programming/Crypto/interview/midas/test-midas\""
   ]
  },
  {
   "cell_type": "code",
   "execution_count": null,
   "id": "8b9000e4",
   "metadata": {},
   "outputs": [],
   "source": [
    "poetry run python $(dvc root)/src/visualization/plots_for_trend.py --config=$(dvc root)/params.yaml"
   ]
  }
 ],
 "metadata": {
  "kernelspec": {
   "display_name": "Python 3.8.9 64-bit",
   "language": "python",
   "name": "python3"
  },
  "language_info": {
   "codemirror_mode": {
    "name": "ipython",
    "version": 3
   },
   "file_extension": ".py",
   "mimetype": "text/x-python",
   "name": "python",
   "nbconvert_exporter": "python",
   "pygments_lexer": "ipython3",
   "version": "3.8.9"
  },
  "vscode": {
   "interpreter": {
    "hash": "31f2aee4e71d21fbe5cf8b01ff0e069b9275f58929596ceb00d14d90e3e16cd6"
   }
  }
 },
 "nbformat": 4,
 "nbformat_minor": 5
}
