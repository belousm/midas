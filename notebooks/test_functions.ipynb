{
 "cells": [
  {
   "cell_type": "code",
   "execution_count": 80,
   "id": "4e406ffc",
   "metadata": {},
   "outputs": [],
   "source": [
    "# import pip\n",
    "# pip.main(['install','poetry'])"
   ]
  },
  {
   "cell_type": "code",
   "execution_count": null,
   "id": "1cf9a247",
   "metadata": {},
   "outputs": [],
   "source": [
    "dvc run -n data_preprocessing_for_volume_anomaly \\\n",
    "-d src/features/preprocessing_for_volume_anomaly.py \\\n",
    "-d data/raw/BTCUSD_1_min_aver-src_cb_disk_.feather \\\n",
    "-o data/processed/processed_volume_anomaly.feather \\\n",
    "-p base,data,featurize \\\n",
    "poetry run python ${PATH_TO_TEST_MIDAS}/src/features/preprocessing_for_volume_anomaly.py --config=${PATH_TO_TEST_MIDAS}/params.yaml \\\n",
    " --config=params.yaml"
   ]
  },
  {
   "cell_type": "code",
   "execution_count": null,
   "id": "59aec72c",
   "metadata": {},
   "outputs": [],
   "source": [
    "export PATH_TO_TEST_MIDAS=$PWD"
   ]
  },
  {
   "cell_type": "code",
   "execution_count": 20,
   "id": "c7c0a3ae",
   "metadata": {},
   "outputs": [],
   "source": [
    "os.environ[\"PATH_TO_TEST_MIDAS\"] = \"/Users/belousm/Programming/Crypto/interview/midas/test-midas\""
   ]
  },
  {
   "cell_type": "code",
   "execution_count": 78,
   "id": "6226a3ca",
   "metadata": {},
   "outputs": [
    {
     "name": "stdout",
     "output_type": "stream",
     "text": [
      "2022-11-21 18:58:14,341 — FIND_VOLUME_ANOMALY — INFO — Read initial data\n",
      "2022-11-21 18:58:14,572 — FIND_VOLUME_ANOMALY — INFO — Columns for rolling mean: [60, 90, 120]\n",
      "2022-11-21 18:58:14,739 — FIND_VOLUME_ANOMALY — INFO — Window for mean which will be used like indicator: 10\n",
      "2022-11-21 18:58:14,816 — FIND_VOLUME_ANOMALY — INFO — Writing data to path: /Users/belousm/Programming/Crypto/interview/midas/test-midas/data/processed/processed_volume_anomaly.feather\n"
     ]
    }
   ],
   "source": [
    "!poetry run python ${PATH_TO_TEST_MIDAS}/src/features/preprocessing_for_volume_anomaly.py --config=${PATH_TO_TEST_MIDAS}/params.yaml\n"
   ]
  },
  {
   "cell_type": "code",
   "execution_count": null,
   "id": "8a2218aa",
   "metadata": {},
   "outputs": [],
   "source": [
    "dvc run -n preprocessing_for_trend_detection \\\n",
    "-d data/raw/BTCUSD_1_min_aver-src_cb_disk_.feather \\\n",
    "-d src/features/preprocessing_for_trend_detection.py \\\n",
    "-o data/processed/processed_trend_detection.feather \\\n",
    "-p base,data,featurize \\\n",
    "poetry run python ${PATH_TO_TEST_MIDAS}/src/features/preprocessing_for_trend_detection.py --config=${PATH_TO_TEST_MIDAS}/params.yaml \\\n",
    " --config=params.yaml"
   ]
  },
  {
   "cell_type": "code",
   "execution_count": null,
   "id": "e45d069e",
   "metadata": {},
   "outputs": [],
   "source": [
    "dvc run -n trend_detection \\\n",
    "-d data/processed/processed_trend_detection.feather \\\n",
    "-d src/models/trend_detection.py \\\n",
    "-p base,data,featurize \\\n",
    "poetry run python ${PATH_TO_TEST_MIDAS}/src/models/trend_detection.py --config=${PATH_TO_TEST_MIDAS}/params.yaml \\\n",
    " --config=params.yaml"
   ]
  },
  {
   "cell_type": "code",
   "execution_count": null,
   "id": "66b70294",
   "metadata": {},
   "outputs": [],
   "source": [
    "# concat\n",
    "dvc run -n concat \\\n",
    "-d data/result/result_trend_detection.feather \\\n",
    "-d data/result/result_volume_anomaly.feather \\\n",
    "-d src/models/concat.py \\\n",
    "-o data/result/result_with_trend_and_anomaly.feather \\\n",
    "-p base,data,featurize \\\n",
    "poetry run python $(dvc root)/src/models/concat.py --config=$(dvc root)/params.yaml \\\n",
    " --config=params.yaml"
   ]
  },
  {
   "cell_type": "code",
   "execution_count": null,
   "id": "ace0a62c",
   "metadata": {},
   "outputs": [],
   "source": [
    "dvc run -n plots_for_trend \\\n",
    "-d data/result/result_with_trend_and_anomaly.feather \\\n",
    "-d src/visualization/plots_for_trend.py \\\n",
    "-p base,data,featurize,reports \\\n",
    "poetry run python $(dvc root)/src/visualization/plots_for_trend.py --config=$(dvc root)/params.yaml \\\n",
    " --config=params.yaml"
   ]
  },
  {
   "cell_type": "code",
   "execution_count": null,
   "id": "8b9000e4",
   "metadata": {},
   "outputs": [],
   "source": [
    "poetry run python $(dvc root)/src/visualization/plots_for_trend.py --config=$(dvc root)/params.yaml"
   ]
  },
  {
   "cell_type": "code",
   "execution_count": 81,
   "id": "e7518a4f",
   "metadata": {},
   "outputs": [
    {
     "name": "stdout",
     "output_type": "stream",
     "text": [
      "2022-11-22 16:45:09,024 — PREPROCESSINF_FOR_TREND_DETECTION — INFO — Read initial data\n",
      "2022-11-22 16:45:09,418 — PREPROCESSINF_FOR_TREND_DETECTION — INFO — Writing data to path: /Users/belousm/Programming/Crypto/interview/midas/test-midas/data/processed/processed_trend_detection.feather\n"
     ]
    }
   ],
   "source": [
    "!poetry run python ${PATH_TO_TEST_MIDAS}/src/features/preprocessing_for_trend_detection.py --config=${PATH_TO_TEST_MIDAS}/params.yaml\n"
   ]
  },
  {
   "cell_type": "code",
   "execution_count": 83,
   "id": "1b309880",
   "metadata": {},
   "outputs": [
    {
     "name": "stdout",
     "output_type": "stream",
     "text": [
      "Traceback (most recent call last):\r\n",
      "  File \"/Users/belousm/Programming/Crypto/interview/midas/test-midas/src/models/trend_detection.py\", line 32, in <module>\r\n",
      "    def get_indices_of_extremes(signal_line: np.ndarray, order: int) -> tuple(np.ndarray):\r\n",
      "TypeError: 'type' object is not iterable\r\n"
     ]
    }
   ],
   "source": [
    "!poetry run python $(dvc root)/src/visualization/plots_for_trend.py --config=$(dvc root)/params.yaml\n"
   ]
  }
 ],
 "metadata": {
  "kernelspec": {
   "display_name": "Python 3 (ipykernel)",
   "language": "python",
   "name": "python3"
  },
  "language_info": {
   "codemirror_mode": {
    "name": "ipython",
    "version": 3
   },
   "file_extension": ".py",
   "mimetype": "text/x-python",
   "name": "python",
   "nbconvert_exporter": "python",
   "pygments_lexer": "ipython3",
   "version": "3.10.8"
  }
 },
 "nbformat": 4,
 "nbformat_minor": 5
}
